{
 "cells": [
  {
   "cell_type": "markdown",
   "metadata": {},
   "source": [
    "# Arrest Data Review\n",
    "## Review general trends of the entire data set.\n",
    "## Review one arrest type and explore some factors like gender, age, etc. to see if trends exist."
   ]
  },
  {
   "cell_type": "code",
   "execution_count": 1,
   "metadata": {},
   "outputs": [],
   "source": [
    "import numpy as np\n",
    "import pandas as pd  \n",
    "import matplotlib.pyplot as plt\n",
    "import seaborn as sns\n",
    "%matplotlib inline\n",
    "df = pd.read_csv (r'\\\\Flws-ntxfs\\cfr\\CPierson\\Documents\\Python\\NYPD_Arrest_Data__Year_to_Date_.csv')"
   ]
  },
  {
   "cell_type": "code",
   "execution_count": 2,
   "metadata": {},
   "outputs": [
    {
     "data": {
      "text/plain": [
       "(155507, 19)"
      ]
     },
     "execution_count": 2,
     "metadata": {},
     "output_type": "execute_result"
    }
   ],
   "source": [
    "df.shape"
   ]
  },
  {
   "cell_type": "code",
   "execution_count": 3,
   "metadata": {
    "scrolled": true
   },
   "outputs": [
    {
     "data": {
      "text/plain": [
       "Index(['ARREST_KEY', 'ARREST_DATE', 'PD_CD', 'PD_DESC', 'KY_CD', 'OFNS_DESC',\n",
       "       'LAW_CODE', 'LAW_CAT_CD', 'ARREST_BORO', 'ARREST_PRECINCT',\n",
       "       'JURISDICTION_CODE', 'AGE_GROUP', 'PERP_SEX', 'PERP_RACE', 'X_COORD_CD',\n",
       "       'Y_COORD_CD', 'Latitude', 'Longitude', 'New Georeferenced Column'],\n",
       "      dtype='object')"
      ]
     },
     "execution_count": 3,
     "metadata": {},
     "output_type": "execute_result"
    }
   ],
   "source": [
    "df.columns"
   ]
  },
  {
   "cell_type": "code",
   "execution_count": 4,
   "metadata": {},
   "outputs": [
    {
     "data": {
      "text/plain": [
       "ARREST_KEY                     0\n",
       "ARREST_DATE                    0\n",
       "PD_CD                         29\n",
       "PD_DESC                      103\n",
       "KY_CD                        103\n",
       "OFNS_DESC                    103\n",
       "LAW_CODE                       0\n",
       "LAW_CAT_CD                  1393\n",
       "ARREST_BORO                    0\n",
       "ARREST_PRECINCT                0\n",
       "JURISDICTION_CODE              0\n",
       "AGE_GROUP                      0\n",
       "PERP_SEX                       0\n",
       "PERP_RACE                      0\n",
       "X_COORD_CD                     0\n",
       "Y_COORD_CD                     0\n",
       "Latitude                       0\n",
       "Longitude                      0\n",
       "New Georeferenced Column       0\n",
       "dtype: int64"
      ]
     },
     "execution_count": 4,
     "metadata": {},
     "output_type": "execute_result"
    }
   ],
   "source": [
    "df.isnull().sum()"
   ]
  },
  {
   "cell_type": "code",
   "execution_count": 5,
   "metadata": {},
   "outputs": [
    {
     "data": {
      "text/plain": [
       "ARREST_KEY                     0\n",
       "ARREST_DATE                    0\n",
       "PD_CD                          0\n",
       "PD_DESC                        0\n",
       "KY_CD                          0\n",
       "OFNS_DESC                      0\n",
       "LAW_CODE                       0\n",
       "LAW_CAT_CD                  1393\n",
       "ARREST_BORO                    0\n",
       "ARREST_PRECINCT                0\n",
       "JURISDICTION_CODE              0\n",
       "AGE_GROUP                      0\n",
       "PERP_SEX                       0\n",
       "PERP_RACE                      0\n",
       "X_COORD_CD                     0\n",
       "Y_COORD_CD                     0\n",
       "Latitude                       0\n",
       "Longitude                      0\n",
       "New Georeferenced Column       0\n",
       "dtype: int64"
      ]
     },
     "execution_count": 5,
     "metadata": {},
     "output_type": "execute_result"
    }
   ],
   "source": [
    "## There are not a lot of null values in the description column so dropping them will not impact my data too much.\n",
    "## Since I am selecting data to review by type of arrest I do not want null values.\n",
    "df = df.dropna(subset=['OFNS_DESC'])\n",
    "df.isnull().sum()"
   ]
  },
  {
   "cell_type": "code",
   "execution_count": 6,
   "metadata": {},
   "outputs": [
    {
     "data": {
      "text/plain": [
       "(155404, 19)"
      ]
     },
     "execution_count": 6,
     "metadata": {},
     "output_type": "execute_result"
    }
   ],
   "source": [
    "df.shape"
   ]
  },
  {
   "cell_type": "code",
   "execution_count": 7,
   "metadata": {},
   "outputs": [
    {
     "data": {
      "text/html": [
       "<div>\n",
       "<style scoped>\n",
       "    .dataframe tbody tr th:only-of-type {\n",
       "        vertical-align: middle;\n",
       "    }\n",
       "\n",
       "    .dataframe tbody tr th {\n",
       "        vertical-align: top;\n",
       "    }\n",
       "\n",
       "    .dataframe thead th {\n",
       "        text-align: right;\n",
       "    }\n",
       "</style>\n",
       "<table border=\"1\" class=\"dataframe\">\n",
       "  <thead>\n",
       "    <tr style=\"text-align: right;\">\n",
       "      <th></th>\n",
       "      <th>ARREST_KEY</th>\n",
       "      <th>PD_CD</th>\n",
       "      <th>KY_CD</th>\n",
       "      <th>ARREST_PRECINCT</th>\n",
       "      <th>JURISDICTION_CODE</th>\n",
       "      <th>X_COORD_CD</th>\n",
       "      <th>Y_COORD_CD</th>\n",
       "      <th>Latitude</th>\n",
       "      <th>Longitude</th>\n",
       "    </tr>\n",
       "  </thead>\n",
       "  <tbody>\n",
       "    <tr>\n",
       "      <th>count</th>\n",
       "      <td>1.554040e+05</td>\n",
       "      <td>155404.000000</td>\n",
       "      <td>155404.000000</td>\n",
       "      <td>155404.000000</td>\n",
       "      <td>155404.000000</td>\n",
       "      <td>1.554040e+05</td>\n",
       "      <td>155404.000000</td>\n",
       "      <td>155404.000000</td>\n",
       "      <td>155404.000000</td>\n",
       "    </tr>\n",
       "    <tr>\n",
       "      <th>mean</th>\n",
       "      <td>2.304659e+08</td>\n",
       "      <td>407.763983</td>\n",
       "      <td>244.962974</td>\n",
       "      <td>62.849663</td>\n",
       "      <td>0.912943</td>\n",
       "      <td>1.004995e+06</td>\n",
       "      <td>208164.073331</td>\n",
       "      <td>40.737996</td>\n",
       "      <td>-73.925116</td>\n",
       "    </tr>\n",
       "    <tr>\n",
       "      <th>std</th>\n",
       "      <td>4.627963e+06</td>\n",
       "      <td>275.773046</td>\n",
       "      <td>150.334545</td>\n",
       "      <td>35.258131</td>\n",
       "      <td>7.896784</td>\n",
       "      <td>2.152876e+04</td>\n",
       "      <td>29905.995347</td>\n",
       "      <td>0.082090</td>\n",
       "      <td>0.077640</td>\n",
       "    </tr>\n",
       "    <tr>\n",
       "      <th>min</th>\n",
       "      <td>2.224711e+08</td>\n",
       "      <td>15.000000</td>\n",
       "      <td>101.000000</td>\n",
       "      <td>1.000000</td>\n",
       "      <td>0.000000</td>\n",
       "      <td>9.142140e+05</td>\n",
       "      <td>121312.000000</td>\n",
       "      <td>40.499401</td>\n",
       "      <td>-74.251844</td>\n",
       "    </tr>\n",
       "    <tr>\n",
       "      <th>25%</th>\n",
       "      <td>2.263269e+08</td>\n",
       "      <td>113.000000</td>\n",
       "      <td>111.000000</td>\n",
       "      <td>34.000000</td>\n",
       "      <td>0.000000</td>\n",
       "      <td>9.912230e+05</td>\n",
       "      <td>185906.750000</td>\n",
       "      <td>40.676902</td>\n",
       "      <td>-73.974842</td>\n",
       "    </tr>\n",
       "    <tr>\n",
       "      <th>50%</th>\n",
       "      <td>2.306064e+08</td>\n",
       "      <td>339.000000</td>\n",
       "      <td>235.000000</td>\n",
       "      <td>62.000000</td>\n",
       "      <td>0.000000</td>\n",
       "      <td>1.004224e+06</td>\n",
       "      <td>207067.000000</td>\n",
       "      <td>40.735019</td>\n",
       "      <td>-73.927979</td>\n",
       "    </tr>\n",
       "    <tr>\n",
       "      <th>75%</th>\n",
       "      <td>2.344524e+08</td>\n",
       "      <td>705.000000</td>\n",
       "      <td>344.000000</td>\n",
       "      <td>101.000000</td>\n",
       "      <td>0.000000</td>\n",
       "      <td>1.017119e+06</td>\n",
       "      <td>235804.000000</td>\n",
       "      <td>40.813903</td>\n",
       "      <td>-73.881512</td>\n",
       "    </tr>\n",
       "    <tr>\n",
       "      <th>max</th>\n",
       "      <td>2.385139e+08</td>\n",
       "      <td>997.000000</td>\n",
       "      <td>995.000000</td>\n",
       "      <td>123.000000</td>\n",
       "      <td>97.000000</td>\n",
       "      <td>1.066928e+06</td>\n",
       "      <td>271820.000000</td>\n",
       "      <td>40.912723</td>\n",
       "      <td>-73.701612</td>\n",
       "    </tr>\n",
       "  </tbody>\n",
       "</table>\n",
       "</div>"
      ],
      "text/plain": [
       "         ARREST_KEY          PD_CD          KY_CD  ARREST_PRECINCT  \\\n",
       "count  1.554040e+05  155404.000000  155404.000000    155404.000000   \n",
       "mean   2.304659e+08     407.763983     244.962974        62.849663   \n",
       "std    4.627963e+06     275.773046     150.334545        35.258131   \n",
       "min    2.224711e+08      15.000000     101.000000         1.000000   \n",
       "25%    2.263269e+08     113.000000     111.000000        34.000000   \n",
       "50%    2.306064e+08     339.000000     235.000000        62.000000   \n",
       "75%    2.344524e+08     705.000000     344.000000       101.000000   \n",
       "max    2.385139e+08     997.000000     995.000000       123.000000   \n",
       "\n",
       "       JURISDICTION_CODE    X_COORD_CD     Y_COORD_CD       Latitude  \\\n",
       "count      155404.000000  1.554040e+05  155404.000000  155404.000000   \n",
       "mean            0.912943  1.004995e+06  208164.073331      40.737996   \n",
       "std             7.896784  2.152876e+04   29905.995347       0.082090   \n",
       "min             0.000000  9.142140e+05  121312.000000      40.499401   \n",
       "25%             0.000000  9.912230e+05  185906.750000      40.676902   \n",
       "50%             0.000000  1.004224e+06  207067.000000      40.735019   \n",
       "75%             0.000000  1.017119e+06  235804.000000      40.813903   \n",
       "max            97.000000  1.066928e+06  271820.000000      40.912723   \n",
       "\n",
       "           Longitude  \n",
       "count  155404.000000  \n",
       "mean      -73.925116  \n",
       "std         0.077640  \n",
       "min       -74.251844  \n",
       "25%       -73.974842  \n",
       "50%       -73.927979  \n",
       "75%       -73.881512  \n",
       "max       -73.701612  "
      ]
     },
     "execution_count": 7,
     "metadata": {},
     "output_type": "execute_result"
    }
   ],
   "source": [
    "df.describe()"
   ]
  },
  {
   "cell_type": "code",
   "execution_count": 8,
   "metadata": {},
   "outputs": [
    {
     "name": "stdout",
     "output_type": "stream",
     "text": [
      "<class 'pandas.core.frame.DataFrame'>\n",
      "Int64Index: 155404 entries, 0 to 155506\n",
      "Data columns (total 19 columns):\n",
      " #   Column                    Non-Null Count   Dtype  \n",
      "---  ------                    --------------   -----  \n",
      " 0   ARREST_KEY                155404 non-null  int64  \n",
      " 1   ARREST_DATE               155404 non-null  object \n",
      " 2   PD_CD                     155404 non-null  float64\n",
      " 3   PD_DESC                   155404 non-null  object \n",
      " 4   KY_CD                     155404 non-null  float64\n",
      " 5   OFNS_DESC                 155404 non-null  object \n",
      " 6   LAW_CODE                  155404 non-null  object \n",
      " 7   LAW_CAT_CD                154011 non-null  object \n",
      " 8   ARREST_BORO               155404 non-null  object \n",
      " 9   ARREST_PRECINCT           155404 non-null  int64  \n",
      " 10  JURISDICTION_CODE         155404 non-null  int64  \n",
      " 11  AGE_GROUP                 155404 non-null  object \n",
      " 12  PERP_SEX                  155404 non-null  object \n",
      " 13  PERP_RACE                 155404 non-null  object \n",
      " 14  X_COORD_CD                155404 non-null  int64  \n",
      " 15  Y_COORD_CD                155404 non-null  int64  \n",
      " 16  Latitude                  155404 non-null  float64\n",
      " 17  Longitude                 155404 non-null  float64\n",
      " 18  New Georeferenced Column  155404 non-null  object \n",
      "dtypes: float64(4), int64(5), object(10)\n",
      "memory usage: 17.8+ MB\n"
     ]
    }
   ],
   "source": [
    "df.info()"
   ]
  },
  {
   "cell_type": "code",
   "execution_count": 9,
   "metadata": {},
   "outputs": [
    {
     "data": {
      "text/html": [
       "<div>\n",
       "<style scoped>\n",
       "    .dataframe tbody tr th:only-of-type {\n",
       "        vertical-align: middle;\n",
       "    }\n",
       "\n",
       "    .dataframe tbody tr th {\n",
       "        vertical-align: top;\n",
       "    }\n",
       "\n",
       "    .dataframe thead th {\n",
       "        text-align: right;\n",
       "    }\n",
       "</style>\n",
       "<table border=\"1\" class=\"dataframe\">\n",
       "  <thead>\n",
       "    <tr style=\"text-align: right;\">\n",
       "      <th></th>\n",
       "      <th>ARREST_KEY</th>\n",
       "      <th>ARREST_DATE</th>\n",
       "      <th>PD_CD</th>\n",
       "      <th>PD_DESC</th>\n",
       "      <th>KY_CD</th>\n",
       "      <th>OFNS_DESC</th>\n",
       "      <th>LAW_CODE</th>\n",
       "      <th>LAW_CAT_CD</th>\n",
       "      <th>ARREST_BORO</th>\n",
       "      <th>ARREST_PRECINCT</th>\n",
       "      <th>JURISDICTION_CODE</th>\n",
       "      <th>AGE_GROUP</th>\n",
       "      <th>PERP_SEX</th>\n",
       "      <th>PERP_RACE</th>\n",
       "      <th>X_COORD_CD</th>\n",
       "      <th>Y_COORD_CD</th>\n",
       "      <th>Latitude</th>\n",
       "      <th>Longitude</th>\n",
       "      <th>New Georeferenced Column</th>\n",
       "    </tr>\n",
       "  </thead>\n",
       "  <tbody>\n",
       "    <tr>\n",
       "      <th>0</th>\n",
       "      <td>238013474</td>\n",
       "      <td>12/18/2021</td>\n",
       "      <td>157.0</td>\n",
       "      <td>RAPE 1</td>\n",
       "      <td>104.0</td>\n",
       "      <td>RAPE</td>\n",
       "      <td>PL 1303501</td>\n",
       "      <td>F</td>\n",
       "      <td>Q</td>\n",
       "      <td>105</td>\n",
       "      <td>97</td>\n",
       "      <td>18-24</td>\n",
       "      <td>M</td>\n",
       "      <td>BLACK</td>\n",
       "      <td>1057636</td>\n",
       "      <td>203954</td>\n",
       "      <td>40.726187</td>\n",
       "      <td>-73.735234</td>\n",
       "      <td>POINT (-73.73523390399998 40.72618713000002)</td>\n",
       "    </tr>\n",
       "    <tr>\n",
       "      <th>1</th>\n",
       "      <td>236943583</td>\n",
       "      <td>11/25/2021</td>\n",
       "      <td>263.0</td>\n",
       "      <td>ARSON 2,3,4</td>\n",
       "      <td>114.0</td>\n",
       "      <td>ARSON</td>\n",
       "      <td>PL 1501500</td>\n",
       "      <td>F</td>\n",
       "      <td>K</td>\n",
       "      <td>69</td>\n",
       "      <td>71</td>\n",
       "      <td>25-44</td>\n",
       "      <td>M</td>\n",
       "      <td>BLACK</td>\n",
       "      <td>1014340</td>\n",
       "      <td>171320</td>\n",
       "      <td>40.636868</td>\n",
       "      <td>-73.891586</td>\n",
       "      <td>POINT (-73.89158591899997 40.63686750900007)</td>\n",
       "    </tr>\n",
       "    <tr>\n",
       "      <th>2</th>\n",
       "      <td>234938876</td>\n",
       "      <td>10/14/2021</td>\n",
       "      <td>594.0</td>\n",
       "      <td>OBSCENITY 1</td>\n",
       "      <td>116.0</td>\n",
       "      <td>SEX CRIMES</td>\n",
       "      <td>PL 2631100</td>\n",
       "      <td>F</td>\n",
       "      <td>K</td>\n",
       "      <td>61</td>\n",
       "      <td>0</td>\n",
       "      <td>25-44</td>\n",
       "      <td>M</td>\n",
       "      <td>WHITE</td>\n",
       "      <td>995244</td>\n",
       "      <td>155739</td>\n",
       "      <td>40.594145</td>\n",
       "      <td>-73.960415</td>\n",
       "      <td>POINT (-73.96041495199995 40.59414516900005)</td>\n",
       "    </tr>\n",
       "    <tr>\n",
       "      <th>3</th>\n",
       "      <td>234788259</td>\n",
       "      <td>10/11/2021</td>\n",
       "      <td>263.0</td>\n",
       "      <td>ARSON 2,3,4</td>\n",
       "      <td>114.0</td>\n",
       "      <td>ARSON</td>\n",
       "      <td>PL 1501001</td>\n",
       "      <td>F</td>\n",
       "      <td>B</td>\n",
       "      <td>42</td>\n",
       "      <td>71</td>\n",
       "      <td>18-24</td>\n",
       "      <td>M</td>\n",
       "      <td>BLACK</td>\n",
       "      <td>1009058</td>\n",
       "      <td>239616</td>\n",
       "      <td>40.824340</td>\n",
       "      <td>-73.910365</td>\n",
       "      <td>POINT (-73.91036538099996 40.82433953100008)</td>\n",
       "    </tr>\n",
       "    <tr>\n",
       "      <th>5</th>\n",
       "      <td>234117071</td>\n",
       "      <td>09/27/2021</td>\n",
       "      <td>157.0</td>\n",
       "      <td>RAPE 1</td>\n",
       "      <td>104.0</td>\n",
       "      <td>RAPE</td>\n",
       "      <td>PL 1303501</td>\n",
       "      <td>F</td>\n",
       "      <td>K</td>\n",
       "      <td>84</td>\n",
       "      <td>0</td>\n",
       "      <td>25-44</td>\n",
       "      <td>M</td>\n",
       "      <td>BLACK</td>\n",
       "      <td>989013</td>\n",
       "      <td>192652</td>\n",
       "      <td>40.695469</td>\n",
       "      <td>-73.982825</td>\n",
       "      <td>POINT (-73.98282507899995 40.69546894100006)</td>\n",
       "    </tr>\n",
       "  </tbody>\n",
       "</table>\n",
       "</div>"
      ],
      "text/plain": [
       "   ARREST_KEY ARREST_DATE  PD_CD      PD_DESC  KY_CD   OFNS_DESC    LAW_CODE  \\\n",
       "0   238013474  12/18/2021  157.0       RAPE 1  104.0        RAPE  PL 1303501   \n",
       "1   236943583  11/25/2021  263.0  ARSON 2,3,4  114.0       ARSON  PL 1501500   \n",
       "2   234938876  10/14/2021  594.0  OBSCENITY 1  116.0  SEX CRIMES  PL 2631100   \n",
       "3   234788259  10/11/2021  263.0  ARSON 2,3,4  114.0       ARSON  PL 1501001   \n",
       "5   234117071  09/27/2021  157.0       RAPE 1  104.0        RAPE  PL 1303501   \n",
       "\n",
       "  LAW_CAT_CD ARREST_BORO  ARREST_PRECINCT  JURISDICTION_CODE AGE_GROUP  \\\n",
       "0          F           Q              105                 97     18-24   \n",
       "1          F           K               69                 71     25-44   \n",
       "2          F           K               61                  0     25-44   \n",
       "3          F           B               42                 71     18-24   \n",
       "5          F           K               84                  0     25-44   \n",
       "\n",
       "  PERP_SEX PERP_RACE  X_COORD_CD  Y_COORD_CD   Latitude  Longitude  \\\n",
       "0        M     BLACK     1057636      203954  40.726187 -73.735234   \n",
       "1        M     BLACK     1014340      171320  40.636868 -73.891586   \n",
       "2        M     WHITE      995244      155739  40.594145 -73.960415   \n",
       "3        M     BLACK     1009058      239616  40.824340 -73.910365   \n",
       "5        M     BLACK      989013      192652  40.695469 -73.982825   \n",
       "\n",
       "                       New Georeferenced Column  \n",
       "0  POINT (-73.73523390399998 40.72618713000002)  \n",
       "1  POINT (-73.89158591899997 40.63686750900007)  \n",
       "2  POINT (-73.96041495199995 40.59414516900005)  \n",
       "3  POINT (-73.91036538099996 40.82433953100008)  \n",
       "5  POINT (-73.98282507899995 40.69546894100006)  "
      ]
     },
     "execution_count": 9,
     "metadata": {},
     "output_type": "execute_result"
    }
   ],
   "source": [
    "df.head()"
   ]
  },
  {
   "cell_type": "code",
   "execution_count": 10,
   "metadata": {},
   "outputs": [
    {
     "data": {
      "text/plain": [
       "AGE_GROUP\n",
       "18-24    28927\n",
       "25-44    88787\n",
       "45-64    30595\n",
       "65+       2296\n",
       "<18       4799\n",
       "Name: ARREST_KEY, dtype: int64"
      ]
     },
     "execution_count": 10,
     "metadata": {},
     "output_type": "execute_result"
    }
   ],
   "source": [
    "##Most crimes are committed by people between 25 - 44\n",
    "df.groupby(['AGE_GROUP'])['ARREST_KEY'].count()"
   ]
  },
  {
   "cell_type": "code",
   "execution_count": 11,
   "metadata": {},
   "outputs": [
    {
     "data": {
      "text/plain": [
       "ARREST_BORO\n",
       "K    41524\n",
       "M    39647\n",
       "B    34001\n",
       "Q    33023\n",
       "S     7209\n",
       "Name: ARREST_KEY, dtype: int64"
      ]
     },
     "execution_count": 11,
     "metadata": {},
     "output_type": "execute_result"
    }
   ],
   "source": [
    "##Most crimes were committed in Brooklyn\n",
    "df.groupby(['ARREST_BORO'])['ARREST_KEY'].count().sort_values(ascending=False)"
   ]
  },
  {
   "cell_type": "code",
   "execution_count": 12,
   "metadata": {},
   "outputs": [
    {
     "data": {
      "text/plain": [
       "PERP_SEX\n",
       "M    128817\n",
       "F     26587\n",
       "Name: ARREST_KEY, dtype: int64"
      ]
     },
     "execution_count": 12,
     "metadata": {},
     "output_type": "execute_result"
    }
   ],
   "source": [
    "##Men commit more crimes than women\n",
    "df.groupby(['PERP_SEX'])['ARREST_KEY'].count().sort_values(ascending=False)"
   ]
  },
  {
   "cell_type": "code",
   "execution_count": 14,
   "metadata": {},
   "outputs": [
    {
     "data": {
      "text/plain": [
       "ARREST_DATE\n",
       "09/21/2021    701\n",
       "10/13/2021    682\n",
       "11/17/2021    649\n",
       "10/06/2021    640\n",
       "01/06/2021    634\n",
       "             ... \n",
       "04/26/2021    230\n",
       "12/24/2021    212\n",
       "11/25/2021    194\n",
       "12/25/2021    181\n",
       "02/01/2021    139\n",
       "Name: ARREST_KEY, Length: 365, dtype: int64"
      ]
     },
     "execution_count": 14,
     "metadata": {},
     "output_type": "execute_result"
    }
   ],
   "source": [
    "##New Yorkers like holidays. Thanksgiving, Christmas Eve and Christmas Day are in the lowest 4 days for number of arrests. \n",
    "df.groupby(['ARREST_DATE'])['ARREST_KEY'].count().sort_values(ascending=False)"
   ]
  },
  {
   "cell_type": "code",
   "execution_count": 15,
   "metadata": {},
   "outputs": [
    {
     "data": {
      "text/html": [
       "<div>\n",
       "<style scoped>\n",
       "    .dataframe tbody tr th:only-of-type {\n",
       "        vertical-align: middle;\n",
       "    }\n",
       "\n",
       "    .dataframe tbody tr th {\n",
       "        vertical-align: top;\n",
       "    }\n",
       "\n",
       "    .dataframe thead th {\n",
       "        text-align: right;\n",
       "    }\n",
       "</style>\n",
       "<table border=\"1\" class=\"dataframe\">\n",
       "  <thead>\n",
       "    <tr style=\"text-align: right;\">\n",
       "      <th></th>\n",
       "      <th>ARREST_KEY</th>\n",
       "      <th>ARREST_DATE</th>\n",
       "      <th>PD_CD</th>\n",
       "      <th>PD_DESC</th>\n",
       "      <th>KY_CD</th>\n",
       "      <th>OFNS_DESC</th>\n",
       "      <th>LAW_CODE</th>\n",
       "      <th>LAW_CAT_CD</th>\n",
       "      <th>ARREST_BORO</th>\n",
       "      <th>ARREST_PRECINCT</th>\n",
       "      <th>JURISDICTION_CODE</th>\n",
       "      <th>AGE_GROUP</th>\n",
       "      <th>PERP_SEX</th>\n",
       "      <th>PERP_RACE</th>\n",
       "      <th>X_COORD_CD</th>\n",
       "      <th>Y_COORD_CD</th>\n",
       "      <th>Latitude</th>\n",
       "      <th>Longitude</th>\n",
       "      <th>New Georeferenced Column</th>\n",
       "      <th>ARREST_MONTH</th>\n",
       "    </tr>\n",
       "  </thead>\n",
       "  <tbody>\n",
       "    <tr>\n",
       "      <th>0</th>\n",
       "      <td>238013474</td>\n",
       "      <td>12/18/2021</td>\n",
       "      <td>157.0</td>\n",
       "      <td>RAPE 1</td>\n",
       "      <td>104.0</td>\n",
       "      <td>RAPE</td>\n",
       "      <td>PL 1303501</td>\n",
       "      <td>F</td>\n",
       "      <td>Q</td>\n",
       "      <td>105</td>\n",
       "      <td>97</td>\n",
       "      <td>18-24</td>\n",
       "      <td>M</td>\n",
       "      <td>BLACK</td>\n",
       "      <td>1057636</td>\n",
       "      <td>203954</td>\n",
       "      <td>40.726187</td>\n",
       "      <td>-73.735234</td>\n",
       "      <td>POINT (-73.73523390399998 40.72618713000002)</td>\n",
       "      <td>12</td>\n",
       "    </tr>\n",
       "    <tr>\n",
       "      <th>1</th>\n",
       "      <td>236943583</td>\n",
       "      <td>11/25/2021</td>\n",
       "      <td>263.0</td>\n",
       "      <td>ARSON 2,3,4</td>\n",
       "      <td>114.0</td>\n",
       "      <td>ARSON</td>\n",
       "      <td>PL 1501500</td>\n",
       "      <td>F</td>\n",
       "      <td>K</td>\n",
       "      <td>69</td>\n",
       "      <td>71</td>\n",
       "      <td>25-44</td>\n",
       "      <td>M</td>\n",
       "      <td>BLACK</td>\n",
       "      <td>1014340</td>\n",
       "      <td>171320</td>\n",
       "      <td>40.636868</td>\n",
       "      <td>-73.891586</td>\n",
       "      <td>POINT (-73.89158591899997 40.63686750900007)</td>\n",
       "      <td>11</td>\n",
       "    </tr>\n",
       "    <tr>\n",
       "      <th>2</th>\n",
       "      <td>234938876</td>\n",
       "      <td>10/14/2021</td>\n",
       "      <td>594.0</td>\n",
       "      <td>OBSCENITY 1</td>\n",
       "      <td>116.0</td>\n",
       "      <td>SEX CRIMES</td>\n",
       "      <td>PL 2631100</td>\n",
       "      <td>F</td>\n",
       "      <td>K</td>\n",
       "      <td>61</td>\n",
       "      <td>0</td>\n",
       "      <td>25-44</td>\n",
       "      <td>M</td>\n",
       "      <td>WHITE</td>\n",
       "      <td>995244</td>\n",
       "      <td>155739</td>\n",
       "      <td>40.594145</td>\n",
       "      <td>-73.960415</td>\n",
       "      <td>POINT (-73.96041495199995 40.59414516900005)</td>\n",
       "      <td>10</td>\n",
       "    </tr>\n",
       "    <tr>\n",
       "      <th>3</th>\n",
       "      <td>234788259</td>\n",
       "      <td>10/11/2021</td>\n",
       "      <td>263.0</td>\n",
       "      <td>ARSON 2,3,4</td>\n",
       "      <td>114.0</td>\n",
       "      <td>ARSON</td>\n",
       "      <td>PL 1501001</td>\n",
       "      <td>F</td>\n",
       "      <td>B</td>\n",
       "      <td>42</td>\n",
       "      <td>71</td>\n",
       "      <td>18-24</td>\n",
       "      <td>M</td>\n",
       "      <td>BLACK</td>\n",
       "      <td>1009058</td>\n",
       "      <td>239616</td>\n",
       "      <td>40.824340</td>\n",
       "      <td>-73.910365</td>\n",
       "      <td>POINT (-73.91036538099996 40.82433953100008)</td>\n",
       "      <td>10</td>\n",
       "    </tr>\n",
       "    <tr>\n",
       "      <th>5</th>\n",
       "      <td>234117071</td>\n",
       "      <td>09/27/2021</td>\n",
       "      <td>157.0</td>\n",
       "      <td>RAPE 1</td>\n",
       "      <td>104.0</td>\n",
       "      <td>RAPE</td>\n",
       "      <td>PL 1303501</td>\n",
       "      <td>F</td>\n",
       "      <td>K</td>\n",
       "      <td>84</td>\n",
       "      <td>0</td>\n",
       "      <td>25-44</td>\n",
       "      <td>M</td>\n",
       "      <td>BLACK</td>\n",
       "      <td>989013</td>\n",
       "      <td>192652</td>\n",
       "      <td>40.695469</td>\n",
       "      <td>-73.982825</td>\n",
       "      <td>POINT (-73.98282507899995 40.69546894100006)</td>\n",
       "      <td>9</td>\n",
       "    </tr>\n",
       "  </tbody>\n",
       "</table>\n",
       "</div>"
      ],
      "text/plain": [
       "   ARREST_KEY ARREST_DATE  PD_CD      PD_DESC  KY_CD   OFNS_DESC    LAW_CODE  \\\n",
       "0   238013474  12/18/2021  157.0       RAPE 1  104.0        RAPE  PL 1303501   \n",
       "1   236943583  11/25/2021  263.0  ARSON 2,3,4  114.0       ARSON  PL 1501500   \n",
       "2   234938876  10/14/2021  594.0  OBSCENITY 1  116.0  SEX CRIMES  PL 2631100   \n",
       "3   234788259  10/11/2021  263.0  ARSON 2,3,4  114.0       ARSON  PL 1501001   \n",
       "5   234117071  09/27/2021  157.0       RAPE 1  104.0        RAPE  PL 1303501   \n",
       "\n",
       "  LAW_CAT_CD ARREST_BORO  ARREST_PRECINCT  JURISDICTION_CODE AGE_GROUP  \\\n",
       "0          F           Q              105                 97     18-24   \n",
       "1          F           K               69                 71     25-44   \n",
       "2          F           K               61                  0     25-44   \n",
       "3          F           B               42                 71     18-24   \n",
       "5          F           K               84                  0     25-44   \n",
       "\n",
       "  PERP_SEX PERP_RACE  X_COORD_CD  Y_COORD_CD   Latitude  Longitude  \\\n",
       "0        M     BLACK     1057636      203954  40.726187 -73.735234   \n",
       "1        M     BLACK     1014340      171320  40.636868 -73.891586   \n",
       "2        M     WHITE      995244      155739  40.594145 -73.960415   \n",
       "3        M     BLACK     1009058      239616  40.824340 -73.910365   \n",
       "5        M     BLACK      989013      192652  40.695469 -73.982825   \n",
       "\n",
       "                       New Georeferenced Column  ARREST_MONTH  \n",
       "0  POINT (-73.73523390399998 40.72618713000002)            12  \n",
       "1  POINT (-73.89158591899997 40.63686750900007)            11  \n",
       "2  POINT (-73.96041495199995 40.59414516900005)            10  \n",
       "3  POINT (-73.91036538099996 40.82433953100008)            10  \n",
       "5  POINT (-73.98282507899995 40.69546894100006)             9  "
      ]
     },
     "execution_count": 15,
     "metadata": {},
     "output_type": "execute_result"
    }
   ],
   "source": [
    "##Adding column for arrest month (number) to be able to make visualizations later.\n",
    "df['ARREST_MONTH'] = pd.DatetimeIndex(df['ARREST_DATE']).month\n",
    "df.head()"
   ]
  },
  {
   "cell_type": "code",
   "execution_count": 16,
   "metadata": {},
   "outputs": [],
   "source": [
    "##Adding full borough name as its own column for easier reading\n",
    "def borough(row):\n",
    "    if row['ARREST_BORO'] == 'M':\n",
    "        return 'Manhattan'\n",
    "    elif row['ARREST_BORO'] == 'K':\n",
    "        return 'Brooklyn'\n",
    "    elif row['ARREST_BORO'] == 'Q':\n",
    "        return 'Queens'\n",
    "    elif row['ARREST_BORO'] == 'B':\n",
    "        return 'Bronx'\n",
    "    elif row['ARREST_BORO'] == 'S':\n",
    "        return 'Staten Island'\n",
    "    else:\n",
    "        return 'Other'\n",
    "    \n",
    "df['ARREST_BOROUGH_NAME'] = df.apply(lambda row: borough(row), axis=1)"
   ]
  },
  {
   "cell_type": "code",
   "execution_count": 17,
   "metadata": {},
   "outputs": [],
   "source": [
    "# As this is converted, it is still needed to be sortable\n",
    "order = [\"Jan\",\"Feb\",\"Mar\",\"Apr\",\"May\",\"Jun\",\"Jul\",\"Aug\",\"Sep\",\"Oct\",\"Nov\",\"Dec\"]\n",
    "\n",
    "##Adding Arrest Month by name. I am sure there is an easier way to do this but I couldn't figure it out.\n",
    "def month_name(row):\n",
    "    if row['ARREST_MONTH'] == 1:\n",
    "        return 'Jan'\n",
    "    elif row['ARREST_MONTH'] == 2:\n",
    "        return 'Feb'\n",
    "    elif row['ARREST_MONTH'] == 3:\n",
    "        return 'Mar'\n",
    "    elif row['ARREST_MONTH'] == 4:\n",
    "        return 'Apr'\n",
    "    elif row['ARREST_MONTH'] == 5:\n",
    "        return 'May'\n",
    "    elif row['ARREST_MONTH'] == 6:\n",
    "        return 'Jun'\n",
    "    elif row['ARREST_MONTH'] == 7:\n",
    "        return 'Jul'\n",
    "    elif row['ARREST_MONTH'] == 8:\n",
    "        return 'Aug'\n",
    "    elif row['ARREST_MONTH'] == 9:\n",
    "        return 'Sep'\n",
    "    elif row['ARREST_MONTH'] == 10:\n",
    "        return 'Oct'\n",
    "    elif row['ARREST_MONTH'] == 11:\n",
    "        return 'Nov'\n",
    "    elif row['ARREST_MONTH'] == 12:\n",
    "        return 'Dec'\n",
    "    else:\n",
    "        return 'Other'\n",
    "    \n",
    "df['ARREST_MONTH_NAME'] = df.apply(lambda row: month_name(row), axis=1)"
   ]
  },
  {
   "cell_type": "code",
   "execution_count": 18,
   "metadata": {},
   "outputs": [
    {
     "data": {
      "text/html": [
       "<div>\n",
       "<style scoped>\n",
       "    .dataframe tbody tr th:only-of-type {\n",
       "        vertical-align: middle;\n",
       "    }\n",
       "\n",
       "    .dataframe tbody tr th {\n",
       "        vertical-align: top;\n",
       "    }\n",
       "\n",
       "    .dataframe thead th {\n",
       "        text-align: right;\n",
       "    }\n",
       "</style>\n",
       "<table border=\"1\" class=\"dataframe\">\n",
       "  <thead>\n",
       "    <tr style=\"text-align: right;\">\n",
       "      <th></th>\n",
       "      <th>ARREST_KEY</th>\n",
       "      <th>ARREST_DATE</th>\n",
       "      <th>PD_CD</th>\n",
       "      <th>PD_DESC</th>\n",
       "      <th>KY_CD</th>\n",
       "      <th>OFNS_DESC</th>\n",
       "      <th>LAW_CODE</th>\n",
       "      <th>LAW_CAT_CD</th>\n",
       "      <th>ARREST_BORO</th>\n",
       "      <th>ARREST_PRECINCT</th>\n",
       "      <th>...</th>\n",
       "      <th>PERP_SEX</th>\n",
       "      <th>PERP_RACE</th>\n",
       "      <th>X_COORD_CD</th>\n",
       "      <th>Y_COORD_CD</th>\n",
       "      <th>Latitude</th>\n",
       "      <th>Longitude</th>\n",
       "      <th>New Georeferenced Column</th>\n",
       "      <th>ARREST_MONTH</th>\n",
       "      <th>ARREST_BOROUGH_NAME</th>\n",
       "      <th>ARREST_MONTH_NAME</th>\n",
       "    </tr>\n",
       "  </thead>\n",
       "  <tbody>\n",
       "    <tr>\n",
       "      <th>155502</th>\n",
       "      <td>222884924</td>\n",
       "      <td>01/10/2021</td>\n",
       "      <td>397.0</td>\n",
       "      <td>ROBBERY,OPEN AREA UNCLASSIFIED</td>\n",
       "      <td>105.0</td>\n",
       "      <td>ROBBERY</td>\n",
       "      <td>PL 1601001</td>\n",
       "      <td>F</td>\n",
       "      <td>B</td>\n",
       "      <td>46</td>\n",
       "      <td>...</td>\n",
       "      <td>M</td>\n",
       "      <td>BLACK</td>\n",
       "      <td>1011432</td>\n",
       "      <td>247605</td>\n",
       "      <td>40.846260</td>\n",
       "      <td>-73.901755</td>\n",
       "      <td>POINT (-73.90175529499999 40.846260031000035)</td>\n",
       "      <td>1</td>\n",
       "      <td>Bronx</td>\n",
       "      <td>Jan</td>\n",
       "    </tr>\n",
       "    <tr>\n",
       "      <th>155503</th>\n",
       "      <td>223918625</td>\n",
       "      <td>02/03/2021</td>\n",
       "      <td>792.0</td>\n",
       "      <td>WEAPONS POSSESSION 1 &amp; 2</td>\n",
       "      <td>118.0</td>\n",
       "      <td>DANGEROUS WEAPONS</td>\n",
       "      <td>PL 2650303</td>\n",
       "      <td>F</td>\n",
       "      <td>K</td>\n",
       "      <td>67</td>\n",
       "      <td>...</td>\n",
       "      <td>M</td>\n",
       "      <td>BLACK</td>\n",
       "      <td>1004940</td>\n",
       "      <td>180941</td>\n",
       "      <td>40.663302</td>\n",
       "      <td>-73.925425</td>\n",
       "      <td>POINT (-73.92542497899994 40.66330200400005)</td>\n",
       "      <td>2</td>\n",
       "      <td>Brooklyn</td>\n",
       "      <td>Feb</td>\n",
       "    </tr>\n",
       "    <tr>\n",
       "      <th>155504</th>\n",
       "      <td>224323770</td>\n",
       "      <td>02/13/2021</td>\n",
       "      <td>101.0</td>\n",
       "      <td>ASSAULT 3</td>\n",
       "      <td>344.0</td>\n",
       "      <td>ASSAULT 3 &amp; RELATED OFFENSES</td>\n",
       "      <td>PL 1200001</td>\n",
       "      <td>M</td>\n",
       "      <td>S</td>\n",
       "      <td>121</td>\n",
       "      <td>...</td>\n",
       "      <td>M</td>\n",
       "      <td>BLACK</td>\n",
       "      <td>942825</td>\n",
       "      <td>166367</td>\n",
       "      <td>40.623227</td>\n",
       "      <td>-74.149227</td>\n",
       "      <td>POINT (-74.14922697299994 40.623226819000074)</td>\n",
       "      <td>2</td>\n",
       "      <td>Staten Island</td>\n",
       "      <td>Feb</td>\n",
       "    </tr>\n",
       "    <tr>\n",
       "      <th>155505</th>\n",
       "      <td>222599533</td>\n",
       "      <td>01/04/2021</td>\n",
       "      <td>792.0</td>\n",
       "      <td>WEAPONS POSSESSION 1 &amp; 2</td>\n",
       "      <td>118.0</td>\n",
       "      <td>DANGEROUS WEAPONS</td>\n",
       "      <td>PL 2650303</td>\n",
       "      <td>F</td>\n",
       "      <td>K</td>\n",
       "      <td>73</td>\n",
       "      <td>...</td>\n",
       "      <td>M</td>\n",
       "      <td>BLACK</td>\n",
       "      <td>1007524</td>\n",
       "      <td>188555</td>\n",
       "      <td>40.684194</td>\n",
       "      <td>-73.916085</td>\n",
       "      <td>POINT (-73.91608474599997 40.684194302000044)</td>\n",
       "      <td>1</td>\n",
       "      <td>Brooklyn</td>\n",
       "      <td>Jan</td>\n",
       "    </tr>\n",
       "    <tr>\n",
       "      <th>155506</th>\n",
       "      <td>224056881</td>\n",
       "      <td>02/06/2021</td>\n",
       "      <td>268.0</td>\n",
       "      <td>CRIMINAL MIS 2 &amp; 3</td>\n",
       "      <td>121.0</td>\n",
       "      <td>CRIMINAL MISCHIEF &amp; RELATED OF</td>\n",
       "      <td>PL 1451000</td>\n",
       "      <td>F</td>\n",
       "      <td>Q</td>\n",
       "      <td>102</td>\n",
       "      <td>...</td>\n",
       "      <td>M</td>\n",
       "      <td>ASIAN / PACIFIC ISLANDER</td>\n",
       "      <td>1031414</td>\n",
       "      <td>190787</td>\n",
       "      <td>40.690226</td>\n",
       "      <td>-73.829932</td>\n",
       "      <td>POINT (-73.82993153599993 40.69022556600004)</td>\n",
       "      <td>2</td>\n",
       "      <td>Queens</td>\n",
       "      <td>Feb</td>\n",
       "    </tr>\n",
       "  </tbody>\n",
       "</table>\n",
       "<p>5 rows × 22 columns</p>\n",
       "</div>"
      ],
      "text/plain": [
       "        ARREST_KEY ARREST_DATE  PD_CD                         PD_DESC  KY_CD  \\\n",
       "155502   222884924  01/10/2021  397.0  ROBBERY,OPEN AREA UNCLASSIFIED  105.0   \n",
       "155503   223918625  02/03/2021  792.0        WEAPONS POSSESSION 1 & 2  118.0   \n",
       "155504   224323770  02/13/2021  101.0                       ASSAULT 3  344.0   \n",
       "155505   222599533  01/04/2021  792.0        WEAPONS POSSESSION 1 & 2  118.0   \n",
       "155506   224056881  02/06/2021  268.0              CRIMINAL MIS 2 & 3  121.0   \n",
       "\n",
       "                             OFNS_DESC    LAW_CODE LAW_CAT_CD ARREST_BORO  \\\n",
       "155502                         ROBBERY  PL 1601001          F           B   \n",
       "155503               DANGEROUS WEAPONS  PL 2650303          F           K   \n",
       "155504    ASSAULT 3 & RELATED OFFENSES  PL 1200001          M           S   \n",
       "155505               DANGEROUS WEAPONS  PL 2650303          F           K   \n",
       "155506  CRIMINAL MISCHIEF & RELATED OF  PL 1451000          F           Q   \n",
       "\n",
       "        ARREST_PRECINCT  ...  PERP_SEX                 PERP_RACE X_COORD_CD  \\\n",
       "155502               46  ...         M                     BLACK    1011432   \n",
       "155503               67  ...         M                     BLACK    1004940   \n",
       "155504              121  ...         M                     BLACK     942825   \n",
       "155505               73  ...         M                     BLACK    1007524   \n",
       "155506              102  ...         M  ASIAN / PACIFIC ISLANDER    1031414   \n",
       "\n",
       "       Y_COORD_CD   Latitude  Longitude  \\\n",
       "155502     247605  40.846260 -73.901755   \n",
       "155503     180941  40.663302 -73.925425   \n",
       "155504     166367  40.623227 -74.149227   \n",
       "155505     188555  40.684194 -73.916085   \n",
       "155506     190787  40.690226 -73.829932   \n",
       "\n",
       "                             New Georeferenced Column  ARREST_MONTH  \\\n",
       "155502  POINT (-73.90175529499999 40.846260031000035)             1   \n",
       "155503   POINT (-73.92542497899994 40.66330200400005)             2   \n",
       "155504  POINT (-74.14922697299994 40.623226819000074)             2   \n",
       "155505  POINT (-73.91608474599997 40.684194302000044)             1   \n",
       "155506   POINT (-73.82993153599993 40.69022556600004)             2   \n",
       "\n",
       "       ARREST_BOROUGH_NAME  ARREST_MONTH_NAME  \n",
       "155502               Bronx                Jan  \n",
       "155503            Brooklyn                Feb  \n",
       "155504       Staten Island                Feb  \n",
       "155505            Brooklyn                Jan  \n",
       "155506              Queens                Feb  \n",
       "\n",
       "[5 rows x 22 columns]"
      ]
     },
     "execution_count": 18,
     "metadata": {},
     "output_type": "execute_result"
    }
   ],
   "source": [
    "##Making sure new columns are there\n",
    "df.tail()"
   ]
  },
  {
   "cell_type": "code",
   "execution_count": 19,
   "metadata": {},
   "outputs": [
    {
     "data": {
      "text/plain": [
       "LAW_CAT_CD\n",
       "M    82575\n",
       "F    70821\n",
       "V      385\n",
       "I      230\n",
       "Name: ARREST_KEY, dtype: int64"
      ]
     },
     "execution_count": 19,
     "metadata": {},
     "output_type": "execute_result"
    }
   ],
   "source": [
    "##Reviewing Number of Arrests by arrest type. Most are misdemeanors.\n",
    "df.groupby(['LAW_CAT_CD'])['ARREST_KEY'].count().sort_values(ascending=False)"
   ]
  },
  {
   "cell_type": "code",
   "execution_count": 20,
   "metadata": {},
   "outputs": [
    {
     "data": {
      "text/plain": [
       "PD_DESC\n",
       "ASSAULT 3                         19766\n",
       "LARCENY,PETIT FROM OPEN AREAS,    13143\n",
       "ASSAULT 2,1,UNCLASSIFIED          11663\n",
       "ROBBERY,OPEN AREA UNCLASSIFIED     7809\n",
       "PUBLIC ADMINISTRATION,UNCLASSI     7135\n",
       "                                  ...  \n",
       "GAMBLING 2, PROMOTING, POLICY-        1\n",
       "FIREWORKS PREV CONV 5 YEARS           1\n",
       "FALSE REPORT 1,FIRE                   1\n",
       "FAIL TO SIGNAL                        1\n",
       "WOUNDS,REPORTING OF                   1\n",
       "Name: ARREST_KEY, Length: 241, dtype: int64"
      ]
     },
     "execution_count": 20,
     "metadata": {},
     "output_type": "execute_result"
    }
   ],
   "source": [
    "##Exploring types of crime\n",
    "df.groupby(['PD_DESC'])['ARREST_KEY'].count().sort_values(ascending=False)"
   ]
  },
  {
   "cell_type": "code",
   "execution_count": 21,
   "metadata": {},
   "outputs": [
    {
     "data": {
      "text/plain": [
       "OFNS_DESC\n",
       "ASSAULT 3 & RELATED OFFENSES       26855\n",
       "FELONY ASSAULT                     15579\n",
       "PETIT LARCENY                      13178\n",
       "DANGEROUS DRUGS                    10450\n",
       "MISCELLANEOUS PENAL LAW            10328\n",
       "                                   ...  \n",
       "PARKING OFFENSES                       3\n",
       "FELONY SEX CRIMES                      2\n",
       "ADMINISTRATIVE CODES                   2\n",
       "NEW YORK CITY HEALTH CODE              1\n",
       "KIDNAPPING AND RELATED OFFENSES        1\n",
       "Name: ARREST_KEY, Length: 63, dtype: int64"
      ]
     },
     "execution_count": 21,
     "metadata": {},
     "output_type": "execute_result"
    }
   ],
   "source": [
    "df.groupby(['OFNS_DESC'])['ARREST_KEY'].count().sort_values(ascending=False)"
   ]
  },
  {
   "cell_type": "code",
   "execution_count": 25,
   "metadata": {},
   "outputs": [
    {
     "data": {
      "text/plain": [
       "OFNS_DESC\n",
       "ASSAULT 3 & RELATED OFFENSES    26855\n",
       "FELONY ASSAULT                  15579\n",
       "Name: ARREST_KEY, dtype: int64"
      ]
     },
     "execution_count": 25,
     "metadata": {},
     "output_type": "execute_result"
    }
   ],
   "source": [
    "##I selected assault crimes to review in further detail. \n",
    "## Creating data set for just assaults.\n",
    "df_assault = df[df['OFNS_DESC'].str.contains('ASSAULT')]\n",
    "df_assault.groupby(['OFNS_DESC'])['ARREST_KEY'].count()"
   ]
  },
  {
   "cell_type": "code",
   "execution_count": 80,
   "metadata": {},
   "outputs": [
    {
     "data": {
      "text/plain": [
       "Text(0.5, 1.0, 'Number of Assaults By Gender')"
      ]
     },
     "execution_count": 80,
     "metadata": {},
     "output_type": "execute_result"
    },
    {
     "data": {
      "image/png": "[encoded data removed]",
      "text/plain": [
       "<Figure size 720x360 with 1 Axes>"
      ]
     },
     "metadata": {},
     "output_type": "display_data"
    }
   ],
   "source": [
    "## Most assaults are committed by men\n",
    "df_assault_gender = df_assault.groupby(['PERP_SEX'])['ARREST_KEY'].count()\n",
    "df_assault_gender.plot.pie()\n",
    "plt.title(\"Number of Assaults By Gender\")"
   ]
  },
  {
   "cell_type": "code",
   "execution_count": 85,
   "metadata": {},
   "outputs": [
    {
     "data": {
      "text/plain": [
       "Text(0.5, 1.0, 'Number of Crimes By Gender')"
      ]
     },
     "execution_count": 85,
     "metadata": {},
     "output_type": "execute_result"
    },
    {
     "data": {
      "image/png": "[encoded data removed]",
      "text/plain": [
       "<Figure size 720x360 with 1 Axes>"
      ]
     },
     "metadata": {},
     "output_type": "display_data"
    }
   ],
   "source": [
    "## Comparing Assaults to rest of data set. Women make up a larger percentage of assaults compared to overall crime.\n",
    "df_gender = df.groupby(['PERP_SEX'])['ARREST_KEY'].count()\n",
    "df_gender.plot.pie()\n",
    "plt.title(\"Number of Crimes By Gender\")"
   ]
  },
  {
   "cell_type": "code",
   "execution_count": 83,
   "metadata": {},
   "outputs": [
    {
     "data": {
      "text/plain": [
       "Text(0.5, 1.0, 'Number of Assaults By Law Category')"
      ]
     },
     "execution_count": 83,
     "metadata": {},
     "output_type": "execute_result"
    },
    {
     "data": {
      "image/png": "[encoded data removed]",
      "text/plain": [
       "<Figure size 720x360 with 1 Axes>"
      ]
     },
     "metadata": {},
     "output_type": "display_data"
    }
   ],
   "source": [
    "##Most assaults are misdemeanors\n",
    "df_assault_level = df_assault.groupby(['LAW_CAT_CD'])['ARREST_KEY'].count()\n",
    "df_assault_level.plot.pie()\n",
    "plt.title(\"Number of Assaults By Law Category\")"
   ]
  },
  {
   "cell_type": "code",
   "execution_count": 29,
   "metadata": {},
   "outputs": [
    {
     "data": {
      "text/plain": [
       "ARREST_MONTH\n",
       "1     3273\n",
       "2     2932\n",
       "3     3601\n",
       "4     3041\n",
       "5     3456\n",
       "6     3582\n",
       "7     3877\n",
       "8     3822\n",
       "9     3825\n",
       "10    4025\n",
       "11    3598\n",
       "12    3402\n",
       "Name: ARREST_KEY, dtype: int64"
      ]
     },
     "execution_count": 29,
     "metadata": {},
     "output_type": "execute_result"
    }
   ],
   "source": [
    "## There is not a big difference between the months.\n",
    "## February is the lowest, October is the highest.\n",
    "df_assault.groupby(['ARREST_MONTH'])['ARREST_KEY'].count()"
   ]
  },
  {
   "cell_type": "code",
   "execution_count": 88,
   "metadata": {},
   "outputs": [
    {
     "data": {
      "text/plain": [
       "Text(0.5, 1.0, 'Number of Assaults by Month')"
      ]
     },
     "execution_count": 88,
     "metadata": {},
     "output_type": "execute_result"
    },
    {
     "data": {
      "image/png": "[encoded data removed]",
      "text/plain": [
       "<Figure size 720x360 with 1 Axes>"
      ]
     },
     "metadata": {
      "needs_background": "light"
     },
     "output_type": "display_data"
    }
   ],
   "source": [
    "df_assault.groupby(by='ARREST_MONTH_NAME')['ARREST_KEY'].count().reindex(order).plot(kind=\"bar\")\n",
    "plt.title(\"Number of Assaults by Month\")"
   ]
  },
  {
   "cell_type": "code",
   "execution_count": 91,
   "metadata": {},
   "outputs": [
    {
     "data": {
      "text/plain": [
       "Text(0.5, 1.0, 'Number of Assaults by Month and Gender')"
      ]
     },
     "execution_count": 91,
     "metadata": {},
     "output_type": "execute_result"
    },
    {
     "data": {
      "image/png": "[encoded data removed]",
      "text/plain": [
       "<Figure size 720x360 with 1 Axes>"
      ]
     },
     "metadata": {
      "needs_background": "light"
     },
     "output_type": "display_data"
    }
   ],
   "source": [
    "##Visualization of Arrest Month for Assaults Comparing the Genders\n",
    "Assault_Month_Gender = pd.pivot_table(df_assault,values=\"ARREST_KEY\",index=\"ARREST_MONTH_NAME\",columns=\"PERP_SEX\",aggfunc=len).reindex(order)\n",
    "Assault_Month_Gender.plot.bar()\n",
    "plt.title(\"Number of Assaults by Month and Gender\")"
   ]
  },
  {
   "cell_type": "code",
   "execution_count": 93,
   "metadata": {},
   "outputs": [
    {
     "data": {
      "text/plain": [
       "<matplotlib.legend.Legend at 0x13854850>"
      ]
     },
     "execution_count": 93,
     "metadata": {},
     "output_type": "execute_result"
    },
    {
     "data": {
      "image/png": "[encoded data removed]",
      "text/plain": [
       "<Figure size 720x360 with 1 Axes>"
      ]
     },
     "metadata": {
      "needs_background": "light"
     },
     "output_type": "display_data"
    }
   ],
   "source": [
    "##Comparing Assaults vs the rest of the data set. The patterns are almost identical. \n",
    "##Assaults follow the same trend as all crimes put together\n",
    "Arrest_Month_Gender = pd.pivot_table(df,values=\"ARREST_KEY\",index=\"ARREST_MONTH_NAME\",columns=\"PERP_SEX\",aggfunc=len).reindex(order)\n",
    "Arrest_Month_Gender.plot.bar()\n",
    "plt.title(\"Number of Arrests by Month and Gender\")\n",
    "plt.legend(bbox_to_anchor=(1.01, 1),\n",
    "           borderaxespad=0)"
   ]
  },
  {
   "cell_type": "code",
   "execution_count": 94,
   "metadata": {},
   "outputs": [
    {
     "data": {
      "text/plain": [
       "<matplotlib.legend.Legend at 0x13a15af0>"
      ]
     },
     "execution_count": 94,
     "metadata": {},
     "output_type": "execute_result"
    },
    {
     "data": {
      "image/png": "[encoded data removed]",
      "text/plain": [
       "<Figure size 864x432 with 1 Axes>"
      ]
     },
     "metadata": {
      "needs_background": "light"
     },
     "output_type": "display_data"
    }
   ],
   "source": [
    "Assault_Month_Age = pd.pivot_table(df_assault,values=[\"ARREST_KEY\"],index=\"ARREST_MONTH_NAME\",columns=\"AGE_GROUP\",aggfunc=len)\n",
    "Assault_Month_Age = Assault_Month_Age.reindex(order)\n",
    "ax = Assault_Month_Age.plot(kind='bar', figsize=(12,6), fontsize=13, width=0.9)\n",
    "ax.set_title(\"Assaults by Month and Age Group\")\n",
    "ax.set_xlabel(\"Arrest Month\", fontsize=12)\n",
    "ax.set_ylabel(\"Number of Arrests\", fontsize=12)\n",
    "plt.legend(bbox_to_anchor=(1.01, 1),\n",
    "           borderaxespad=0)"
   ]
  },
  {
   "cell_type": "markdown",
   "metadata": {},
   "source": [
    "## Comparing Assaults vs the rest of the data set. The patterns are similar. \n",
    "### There are a few months that young people (18-24) seem to commit more crimes overall but less assaults in comparison to 45-64 year olds. (January, February, March). In general, the pattern is similar to overall crime."
   ]
  },
  {
   "cell_type": "code",
   "execution_count": 97,
   "metadata": {},
   "outputs": [
    {
     "data": {
      "text/plain": [
       "<matplotlib.legend.Legend at 0x13a42a70>"
      ]
     },
     "execution_count": 97,
     "metadata": {},
     "output_type": "execute_result"
    },
    {
     "data": {
      "image/png": "[encoded data removed]",
      "text/plain": [
       "<Figure size 864x432 with 1 Axes>"
      ]
     },
     "metadata": {
      "needs_background": "light"
     },
     "output_type": "display_data"
    }
   ],
   "source": [
    "Arrest_Month_Age = pd.pivot_table(df,values=[\"ARREST_KEY\"],index=\"ARREST_MONTH_NAME\",columns=\"AGE_GROUP\",aggfunc=len)\n",
    "Arrest_Month_Age = Arrest_Month_Age.reindex(order)\n",
    "ax = Arrest_Month_Age.plot(kind='bar', figsize=(12,6), fontsize=13, width=0.9)\n",
    "ax.set_title(\"Assaults by Month and Age Group\")\n",
    "ax.set_xlabel(\"Arrest Month\", fontsize=12)\n",
    "ax.set_ylabel(\"Number of Arrests\", fontsize=12)\n",
    "plt.legend(bbox_to_anchor=(1.01, 1),\n",
    "           borderaxespad=0)"
   ]
  },
  {
   "cell_type": "code",
   "execution_count": 102,
   "metadata": {},
   "outputs": [
    {
     "data": {
      "text/plain": [
       "<matplotlib.axes._subplots.AxesSubplot at 0x11ebbd90>"
      ]
     },
     "execution_count": 102,
     "metadata": {},
     "output_type": "execute_result"
    },
    {
     "data": {
      "image/png": "[encoded data removed]",
      "text/plain": [
       "<Figure size 720x360 with 1 Axes>"
      ]
     },
     "metadata": {
      "needs_background": "light"
     },
     "output_type": "display_data"
    }
   ],
   "source": [
    "##Visualization of Assaults by Borough\n",
    "sns.countplot(x=\"ARREST_BOROUGH_NAME\",data=df_assault,palette=\"Greens_d\")"
   ]
  },
  {
   "cell_type": "code",
   "execution_count": 99,
   "metadata": {},
   "outputs": [
    {
     "data": {
      "text/plain": [
       "Text(0, 0.5, 'Number of Arrests')"
      ]
     },
     "execution_count": 99,
     "metadata": {},
     "output_type": "execute_result"
    },
    {
     "data": {
      "image/png": "[encoded data removed]",
      "text/plain": [
       "<Figure size 864x432 with 1 Axes>"
      ]
     },
     "metadata": {
      "needs_background": "light"
     },
     "output_type": "display_data"
    }
   ],
   "source": [
    "## Visualization comparing borough and age group\n",
    "Assault_Borough_Age = pd.pivot_table(df_assault,values=\"ARREST_KEY\",index=\"ARREST_BOROUGH_NAME\",columns=\"AGE_GROUP\",aggfunc=len)\n",
    "ax = Assault_Borough_Age.plot(kind='bar', figsize=(12,6), fontsize=13)\n",
    "ax.set_alpha(0.8)\n",
    "ax.set_title(\"Assaults by Borough and Age Group\")\n",
    "ax.set_xlabel(\"Arrest Borough\", fontsize=12)\n",
    "ax.set_ylabel(\"Number of Arrests\", fontsize=12)"
   ]
  },
  {
   "cell_type": "markdown",
   "metadata": {},
   "source": [
    "## Comparing Assaults to the Overall Data Set\n",
    "- 25-44 year olds in the Bronx have more assaults in comparison to crime overall. They are very close in assault arrest numbers to Brooklyn but overall have significantly less arrests than Brooklyn.\n",
    "- The opposite seems to be true in Manhattan for 25 - 44 year olds.  It looks like they have a lower amount of assault arrests but higher crime overall (closer to Brooklyn's numbers)."
   ]
  },
  {
   "cell_type": "code",
   "execution_count": 100,
   "metadata": {},
   "outputs": [
    {
     "data": {
      "text/plain": [
       "Text(0, 0.5, 'Number of Arrests')"
      ]
     },
     "execution_count": 100,
     "metadata": {},
     "output_type": "execute_result"
    },
    {
     "data": {
      "image/png": "[encoded data removed]",
      "text/plain": [
       "<Figure size 864x432 with 1 Axes>"
      ]
     },
     "metadata": {
      "needs_background": "light"
     },
     "output_type": "display_data"
    }
   ],
   "source": [
    "Arrest_Borough_Age = pd.pivot_table(df,values=\"ARREST_KEY\",index=\"ARREST_BOROUGH_NAME\",columns=\"AGE_GROUP\",aggfunc=len)\n",
    "ax = Arrest_Borough_Age.plot(kind='bar', figsize=(12,6), fontsize=13)\n",
    "ax.set_alpha(0.8)\n",
    "ax.set_title(\"Arrests by Borough and Age Group\")\n",
    "ax.set_xlabel(\"Arrest Borough\", fontsize=12)\n",
    "ax.set_ylabel(\"Number of Arrests\", fontsize=12)"
   ]
  },
  {
   "cell_type": "code",
   "execution_count": null,
   "metadata": {},
   "outputs": [],
   "source": []
  }
 ],
 "metadata": {
  "kernelspec": {
   "display_name": "Python 3",
   "language": "python",
   "name": "python3"
  },
  "language_info": {
   "codemirror_mode": {
    "name": "ipython",
    "version": 3
   },
   "file_extension": ".py",
   "mimetype": "text/x-python",
   "name": "python",
   "nbconvert_exporter": "python",
   "pygments_lexer": "ipython3",
   "version": "3.7.6"
  }
 },
 "nbformat": 4,
 "nbformat_minor": 4
}
